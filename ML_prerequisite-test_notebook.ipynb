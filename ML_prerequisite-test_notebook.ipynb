{
  "nbformat": 4,
  "nbformat_minor": 0,
  "metadata": {
    "colab": {
      "provenance": []
    },
    "kernelspec": {
      "name": "python3",
      "display_name": "Python 3"
    },
    "language_info": {
      "name": "python"
    }
  },
  "cells": [
    {
      "cell_type": "markdown",
      "source": [
        "## **Praanshu Patel**\n",
        "\n",
        "### Roll Number: **23110249**"
      ],
      "metadata": {
        "id": "kL4awVcwQNuw"
      }
    },
    {
      "cell_type": "markdown",
      "source": [
        "### **Q1**\n",
        "\n",
        "Each element of the k columns of the first matrix is multiplied once with one element from the k rows of the second matrix (k multiplications).\n",
        "\n",
        "These multiplied results are then added (k-1 additions for each element of the new array).\n",
        "\n",
        "Since the new array has mn elements, the total number of additions and subtractions are (k-1)mn and kmn respectively."
      ],
      "metadata": {
        "id": "lFhmUThU7JZo"
      }
    },
    {
      "cell_type": "markdown",
      "source": [
        "### **Q2**"
      ],
      "metadata": {
        "id": "mSSgKj_oPKxE"
      }
    },
    {
      "cell_type": "code",
      "source": [
        "#Q2\n",
        "import time\n",
        "import numpy as np\n",
        "l1=[]\n",
        "for i in range(10000): #Making a large array to demonstrate time difference more easily\n",
        "    l1.append([1,2,3])\n",
        "    l1.append([4,5,6])\n",
        "\n",
        "l2=[\n",
        "    [7, 8, 9, 10],\n",
        "    [11, 12, 13, 14],\n",
        "    [15, 16, 17, 18]\n",
        "]\n",
        "n1=np.array(l1)\n",
        "n2=np.array(l2)\n",
        "start=time.time()\n",
        "lstf=[]\n",
        "a=0\n",
        "s=0\n",
        "for i in l1:\n",
        "    lst=[]\n",
        "    for a in range(len(l2[0])):\n",
        "        b=0\n",
        "        for j in l2:\n",
        "            s+=(i[b]*j[a])\n",
        "            b+=1\n",
        "        lst.append(s)\n",
        "        s=0\n",
        "    lstf.append(lst)\n",
        "    lst=[]\n",
        "    a=0\n",
        "#print(lstf)\n",
        "end = time.time()\n",
        "print(\"Time taken using lists:\",end-start)\n",
        "\n",
        "#using numpyy\n",
        "start2=time.time()\n",
        "lstf2=np.dot(n1,n2)\n",
        "#print(lstf2)\n",
        "end2 = time.time()\n",
        "print(\"Time taken using numpy:\",end2-start2)"
      ],
      "metadata": {
        "colab": {
          "base_uri": "https://localhost:8080/"
        },
        "id": "I6HyrBKN7207",
        "outputId": "7cff9fb3-7c4a-43af-a6e4-8522c998aeff"
      },
      "execution_count": null,
      "outputs": [
        {
          "output_type": "stream",
          "name": "stdout",
          "text": [
            "Time taken using lists: 0.11040639877319336\n",
            "Time taken using numpy: 0.0022003650665283203\n"
          ]
        }
      ]
    },
    {
      "cell_type": "markdown",
      "source": [
        "Numpy arrays are faster than python lists.\n",
        "This is because:\n",
        "1. Numpy arrays are homogenous, i.e. they only contain one data type and this allows for efficient memory storage and faster performance.\n",
        "2. Numpy arrays are stored in contiguous blocks whereas Python lists use pointers."
      ],
      "metadata": {
        "id": "M5tlP4vd77my"
      }
    },
    {
      "cell_type": "markdown",
      "source": [
        "### **Q3**"
      ],
      "metadata": {
        "id": "2RQihvOrPOfy"
      }
    },
    {
      "cell_type": "code",
      "source": [
        "#Q3\n",
        "import random\n",
        "import numpy as np\n",
        "import time\n",
        "lst = [random.randint(1,100) for _ in range(10000)]\n",
        "lst2=list(lst)\n",
        "#using numpy\n",
        "start1=time.time()\n",
        "print(\"Median:\",np.median(lst))\n",
        "end1=time.time()\n",
        "print(\"Time taken using numpy:\",end1-start1)\n",
        "\n",
        "#iterating many times\n",
        "'''\n",
        "This has time complexity O(n**2) and thus a nested for loop is used.\n",
        "'''\n",
        "start2=time.time()\n",
        "for i in range(int(len(lst)/2)+1):\n",
        "    largest=0\n",
        "    for j in range(len(lst)):\n",
        "        if lst[j]>largest:\n",
        "            largest=lst[j]\n",
        "    lst.remove(largest)\n",
        "for j in range(len(lst)):\n",
        "        if lst[j]>largest:\n",
        "            largest=lst[j]\n",
        "print(\"Median:\",largest)\n",
        "end2=time.time()\n",
        "print(\"Time taken using lists:\",end2-start2)\n",
        "\n",
        "#using sort\n",
        "'''\n",
        "A better method to use is sorting.\n",
        "After a list is sorted (Time complexity O(n logn)), the middle element is the median.\n",
        "'''\n",
        "start3=time.time()\n",
        "\n",
        "lst2.sort()\n",
        "print(\"Median:\",lst2[int(len(lst2)/2)])\n",
        "end3=time.time()\n",
        "print(\"Time taken using lists after sorting:\",end3-start3)"
      ],
      "metadata": {
        "colab": {
          "base_uri": "https://localhost:8080/"
        },
        "id": "M98NQg5c8HNy",
        "outputId": "f1b615d8-2996-4226-ace4-13d846df3712"
      },
      "execution_count": null,
      "outputs": [
        {
          "output_type": "stream",
          "name": "stdout",
          "text": [
            "Median: 50.0\n",
            "Time taken using numpy: 0.003117084503173828\n",
            "Median: 50\n",
            "Time taken using lists: 6.001091003417969\n",
            "Median: 50\n",
            "Time taken using lists after sorting: 0.0020380020141601562\n"
          ]
        }
      ]
    },
    {
      "cell_type": "markdown",
      "source": [
        "### **Q4**\n",
        "\n",
        "The gradient is calculated by taking the partial derivatives of x and y of the equation.\n",
        "\n",
        "Hence, the gradient of the given equation is:\n",
        "2xy+(y^3)cos(x),x^2+(3y^2)sin(x)"
      ],
      "metadata": {
        "id": "inKnJ4568VCA"
      }
    },
    {
      "cell_type": "markdown",
      "source": [
        "### **Q5**"
      ],
      "metadata": {
        "id": "R7NRsFYYPazr"
      }
    },
    {
      "cell_type": "code",
      "execution_count": null,
      "metadata": {
        "colab": {
          "base_uri": "https://localhost:8080/"
        },
        "id": "GmRp3kwvD5b1",
        "outputId": "ef788521-3761-4424-c20c-ef9e48a88b62"
      },
      "outputs": [
        {
          "output_type": "stream",
          "name": "stdout",
          "text": [
            "Output format: Partial derivatives w.r.t. x and y respectively\n",
            "Using JAX: 1.5548759 1.8613818\n",
            "Using resulting formula: 1.5548757285614392 1.8613815651726593\n",
            "Using JAX: 1.3458197 0.8414988\n",
            "Using resulting formula: 1.345819672664848 0.8414987577737457\n",
            "Using JAX: 0.013571511 0.12867595\n",
            "Using resulting formula: 0.013571511683478943 0.12867595964520678\n",
            "Using JAX: 0.6276381 0.7388233\n",
            "Using resulting formula: 0.6276380567300632 0.7388232413156475\n",
            "Using JAX: 0.26951712 0.5658994\n",
            "Using resulting formula: 0.2695171138628908 0.5658993708805258\n"
          ]
        }
      ],
      "source": [
        "#Q5\n",
        "import jax\n",
        "import math\n",
        "import jax.numpy as jnp\n",
        "\n",
        "#Using the result formula\n",
        "def gr(x,y):\n",
        "  return [2*x*y + (y**3)*math.cos(x) , x**2 + (3*y**2)*math.sin(x)]\n",
        "\n",
        "#Using JAX\n",
        "def f(x,y):\n",
        "    return (x**2)*y + (y**3)*jnp.sin(x)\n",
        "gradf=jax.grad(f,argnums=(0, 1))\n",
        "\n",
        "x=np.random.rand(5)\n",
        "y=np.random.rand(5)\n",
        "\n",
        "print(\"Output format: Partial derivatives w.r.t. x and y respectively\")\n",
        "for i in range(len(x)):\n",
        "  grad=gradf(x[i],y[i])\n",
        "  print(\"Using JAX:\",grad[0],grad[1])\n",
        "  print(\"Using resulting formula:\",gr(x[i],y[i])[0],gr(x[i],y[i])[1])"
      ]
    },
    {
      "cell_type": "markdown",
      "source": [
        "### **Q6**"
      ],
      "metadata": {
        "id": "y-LJ-8n3PdWc"
      }
    },
    {
      "cell_type": "code",
      "source": [
        "#Q6\n",
        "import sympy as sp\n",
        "\n",
        "x,y=sp.symbols('x y')\n",
        "f = (x**2)*y + (y**3)*sp.sin(x)\n",
        "\n",
        "gx=sp.diff(f,x)\n",
        "gy=sp.diff(f,y)\n",
        "\n",
        "print(\"Gradient of f with respect to x, y:\")\n",
        "print([gx,gy])"
      ],
      "metadata": {
        "colab": {
          "base_uri": "https://localhost:8080/"
        },
        "id": "0N3J2cYp8Trm",
        "outputId": "f707268e-a786-41aa-85a3-6978393b6dc0"
      },
      "execution_count": null,
      "outputs": [
        {
          "output_type": "stream",
          "name": "stdout",
          "text": [
            "Gradient of f with respect to x, y:\n",
            "[2*x*y + y**3*cos(x), x**2 + 3*y**2*sin(x)]\n"
          ]
        }
      ]
    },
    {
      "cell_type": "markdown",
      "source": [
        "### **Q7**"
      ],
      "metadata": {
        "id": "i6FseATzPjOo"
      }
    },
    {
      "cell_type": "code",
      "source": [
        "#Q7\n",
        "d={}\n",
        "for i in range(2022,2026):\n",
        "    d[i]={'branch1':{'rollno':['name',{'subject1':{}}]}}\n",
        "for i in d:\n",
        "    print(i,d[i])"
      ],
      "metadata": {
        "colab": {
          "base_uri": "https://localhost:8080/"
        },
        "id": "iXdkNonZ8gvq",
        "outputId": "90b21f8b-af84-49aa-a896-834366ba2f39"
      },
      "execution_count": null,
      "outputs": [
        {
          "output_type": "stream",
          "name": "stdout",
          "text": [
            "2022 {'branch1': {'rollno': ['name', {'subject1': {}}]}}\n",
            "2023 {'branch1': {'rollno': ['name', {'subject1': {}}]}}\n",
            "2024 {'branch1': {'rollno': ['name', {'subject1': {}}]}}\n",
            "2025 {'branch1': {'rollno': ['name', {'subject1': {}}]}}\n"
          ]
        }
      ]
    },
    {
      "cell_type": "markdown",
      "source": [
        "### **Q8**"
      ],
      "metadata": {
        "id": "TAA5Q_anPlmB"
      }
    },
    {
      "cell_type": "code",
      "source": [
        "#Q8\n",
        "class Student:\n",
        "    def __init__(self,roll_number,name,marks):\n",
        "        self.roll_number=roll_number\n",
        "        self.name=name\n",
        "        self.marks=marks\n",
        "\n",
        "class Branch:\n",
        "    def __init__(self,name):\n",
        "        self.name=name\n",
        "        self.students=[]\n",
        "\n",
        "    def add_student(self,student):\n",
        "        self.students.append(student)\n",
        "\n",
        "class Year:\n",
        "    def __init__(self,year):\n",
        "        self.year=year\n",
        "        self.branches=[]\n",
        "\n",
        "    def add_branch(self,branch):\n",
        "        self.branches.append(branch)\n",
        "\n",
        "class Database:\n",
        "    def __init__(self):\n",
        "        self.years=[]\n",
        "\n",
        "    def add_year(self, year):\n",
        "        self.years.append(year)\n",
        "\n",
        "database = Database()\n",
        "\n",
        "# Adding data\n",
        "year_2022 = Year(2022)\n",
        "branch_1_2022 = Branch(\"Branch 1\")\n",
        "branch_1_2022.add_student(Student(110, \"A\", {\"Subject1\": 100}))\n",
        "branch_1_2022.add_student(Student(111, \"B\", {\"Subject1\": 85, \"Subject2\": 75}))\n",
        "year_2022.add_branch(branch_1_2022)\n",
        "\n",
        "branch_2_2022 = Branch(\"Branch 2\")\n",
        "branch_2_2022.add_student(Student(112, \"C\", {\"Subject1\": 90, \"Subject2\": 80}))\n",
        "year_2022.add_branch(branch_2_2022)\n",
        "\n",
        "database.add_year(year_2022)"
      ],
      "metadata": {
        "id": "7IZIFeHZ8loB"
      },
      "execution_count": 12,
      "outputs": []
    },
    {
      "cell_type": "markdown",
      "source": [
        "### **Q9**"
      ],
      "metadata": {
        "id": "QS17lpCbPqLP"
      }
    },
    {
      "cell_type": "code",
      "source": [
        "#Q9\n",
        "import matplotlib.pyplot as plt\n",
        "import math\n",
        "\n",
        "y1=[]\n",
        "y2=[]\n",
        "y3=[]\n",
        "y4=[]\n",
        "y5=[]\n",
        "y6=[]\n",
        "y7=[]\n",
        "xlist=[]\n",
        "for i in range(1,201):\n",
        "    xlist.append(i/2)\n",
        "\n",
        "for x in xlist:\n",
        "    y1.append(x)\n",
        "    y2.append(x**2)\n",
        "    y3.append((x**3)/100)\n",
        "    y4.append(math.sin(x))\n",
        "    y5.append((math.sin(x))/x)\n",
        "    y6.append(math.log(x))\n",
        "    y7.append(math.exp(x))\n",
        "\n",
        "plt.plot(xlist,y1,label='x')\n",
        "plt.legend()\n",
        "plt.show()\n",
        "plt.plot(xlist,y2,label='x**2')\n",
        "plt.legend()\n",
        "plt.show()\n",
        "plt.plot(xlist,y3,label='(x**3)/100')\n",
        "plt.legend()\n",
        "plt.show()\n",
        "plt.plot(xlist,y4,label='sin(x)')\n",
        "plt.legend()\n",
        "plt.show()\n",
        "plt.plot(xlist,y5,label='sin(x)/x')\n",
        "plt.legend()\n",
        "plt.show()\n",
        "plt.plot(xlist,y6,label='log(x)')\n",
        "plt.legend()\n",
        "plt.show()\n",
        "plt.plot(xlist,y7,label='exp(x)')\n",
        "plt.legend()\n",
        "plt.show()"
      ],
      "metadata": {
        "colab": {
          "base_uri": "https://localhost:8080/",
          "height": 1000
        },
        "id": "L0nmAB8j8oUB",
        "outputId": "5d833047-b8ee-45e1-a97c-8ecb103b8ee5"
      },
      "execution_count": null,
      "outputs": [
        {
          "output_type": "display_data",
          "data": {
            "text/plain": [
              "<Figure size 640x480 with 1 Axes>"
            ],
            "image/png": "[encoded data removed]"
          },
          "metadata": {}
        },
        {
          "output_type": "display_data",
          "data": {
            "text/plain": [
              "<Figure size 640x480 with 1 Axes>"
            ],
            "image/png": "[encoded data removed]"
          },
          "metadata": {}
        },
        {
          "output_type": "display_data",
          "data": {
            "text/plain": [
              "<Figure size 640x480 with 1 Axes>"
            ],
            "image/png": "[encoded data removed]"
          },
          "metadata": {}
        },
        {
          "output_type": "display_data",
          "data": {
            "text/plain": [
              "<Figure size 640x480 with 1 Axes>"
            ],
            "image/png": "[encoded data removed]"
          },
          "metadata": {}
        },
        {
          "output_type": "display_data",
          "data": {
            "text/plain": [
              "<Figure size 640x480 with 1 Axes>"
            ],
            "image/png": "[encoded data removed]"
          },
          "metadata": {}
        },
        {
          "output_type": "display_data",
          "data": {
            "text/plain": [
              "<Figure size 640x480 with 1 Axes>"
            ],
            "image/png": "[encoded data removed]"
          },
          "metadata": {}
        },
        {
          "output_type": "display_data",
          "data": {
            "text/plain": [
              "<Figure size 640x480 with 1 Axes>"
            ],
            "image/png": "[encoded data removed]"
          },
          "metadata": {}
        }
      ]
    },
    {
      "cell_type": "markdown",
      "source": [
        "### **Q10**"
      ],
      "metadata": {
        "id": "3Sr7OFT1Ps3c"
      }
    },
    {
      "cell_type": "code",
      "source": [
        "#Q10\n",
        "import numpy as np\n",
        "import pandas as pd\n",
        "\n",
        "matrix=np.random.uniform(1,2,size=(20,5))\n",
        "df=pd.DataFrame(matrix, columns=['a','b','c','d','e'])\n",
        "print(\"Column with the highest standard deviation:\")\n",
        "print(df.std().idxmax(),max(df.std()))\n",
        "print(\"Row with the lowest mean:\")\n",
        "print(df.mean(axis=1).idxmax(),max(df.mean(axis=1)))"
      ],
      "metadata": {
        "colab": {
          "base_uri": "https://localhost:8080/"
        },
        "id": "IhEW-Ke88tZ1",
        "outputId": "5e23f16d-d777-4d20-93e1-7f1d54ecd3e0"
      },
      "execution_count": null,
      "outputs": [
        {
          "output_type": "stream",
          "name": "stdout",
          "text": [
            "Column with the highest standard deviation:\n",
            "d 0.32073269802249954\n",
            "Row with the lowest mean:\n",
            "19 1.6863580290914886\n"
          ]
        }
      ]
    },
    {
      "cell_type": "markdown",
      "source": [
        "### **Q11**"
      ],
      "metadata": {
        "id": "wiVGvetoPvkn"
      }
    },
    {
      "cell_type": "code",
      "source": [
        "#Q11\n",
        "import numpy as np\n",
        "import pandas as pd\n",
        "\n",
        "matrix=np.random.uniform(1,2,size=(20,5))\n",
        "df=pd.DataFrame(matrix, columns=['a','b','c','d','e'])\n",
        "df['f']=df[['a','b','c','d','e']].sum(axis=1)\n",
        "df['g']=np.where(df['f']<8,'LT8','GT8')\n",
        "lc=(df['g']=='LT8').sum()\n",
        "print(\"Number of rows where the value in the column 'g' is 'LT8':\",lc)\n",
        "stdl=df[df['g']=='LT8']['f'].std()\n",
        "stdg=df[df['g']=='GT8']['f'].std()\n",
        "print(\"Standard deviation of column 'f' for the rows where the value of column 'g' is 'LT8' and 'GT8' respectively is:\",stdl,stdg)\n",
        "df"
      ],
      "metadata": {
        "colab": {
          "base_uri": "https://localhost:8080/",
          "height": 711
        },
        "id": "3L1AjRAy80zu",
        "outputId": "66c9de82-d1e6-4504-cd7c-9a52655aaac8"
      },
      "execution_count": null,
      "outputs": [
        {
          "output_type": "stream",
          "name": "stdout",
          "text": [
            "Number of rows where the value in the column 'g' is 'LT8': 18\n",
            "Standard deviation of column 'f' for the rows where the value of column 'g' is 'LT8' and 'GT8' respectively is: 0.520561850147218 0.3979016326961441\n"
          ]
        },
        {
          "output_type": "execute_result",
          "data": {
            "text/plain": [
              "           a         b         c         d         e         f    g\n",
              "0   1.109774  1.494324  1.503866  1.943043  1.318035  7.369041  LT8\n",
              "1   1.120241  1.657560  1.542489  1.692709  1.940307  7.953306  LT8\n",
              "2   1.194811  1.918830  1.643698  1.351261  1.327388  7.435989  LT8\n",
              "3   1.225264  1.874307  1.427723  1.107883  1.518869  7.154046  LT8\n",
              "4   1.099047  1.474036  1.990554  1.501393  1.673252  7.738282  LT8\n",
              "5   1.548385  1.866024  1.270475  1.553278  1.584164  7.822326  LT8\n",
              "6   1.589544  1.646176  1.038217  1.982280  1.501515  7.757732  LT8\n",
              "7   1.303179  1.036511  1.257605  1.084695  1.121133  5.803124  LT8\n",
              "8   1.723845  1.542043  1.024207  1.661866  1.073479  7.025441  LT8\n",
              "9   1.875897  1.524417  1.952131  1.280735  1.562069  8.195249  GT8\n",
              "10  1.611549  1.523877  1.064435  1.536509  1.946145  7.682514  LT8\n",
              "11  1.846398  1.034823  1.599608  1.083817  1.591639  7.156284  LT8\n",
              "12  1.211466  1.512629  1.277598  1.207850  1.743260  6.952803  LT8\n",
              "13  1.948304  1.303825  1.285131  1.475832  1.420162  7.433254  LT8\n",
              "14  1.911370  1.309726  1.416171  1.225631  1.214191  7.077088  LT8\n",
              "15  1.385926  1.299863  1.372532  1.253307  1.533826  6.845454  LT8\n",
              "16  1.899941  1.904522  1.447678  1.578051  1.927776  8.757967  GT8\n",
              "17  1.260194  1.045643  1.478850  1.015872  1.969122  6.769681  LT8\n",
              "18  1.173872  1.317004  1.764187  1.957732  1.058448  7.271243  LT8\n",
              "19  1.084786  1.551630  1.260368  1.565574  1.183973  6.646330  LT8"
            ],
            "text/html": [
              "\n",
              "  <div id=\"df-aeb635dd-fe28-4817-92a7-3a64ac3ac298\" class=\"colab-df-container\">\n",
              "    <div>\n",
              "<style scoped>\n",
              "    .dataframe tbody tr th:only-of-type {\n",
              "        vertical-align: middle;\n",
              "    }\n",
              "\n",
              "    .dataframe tbody tr th {\n",
              "        vertical-align: top;\n",
              "    }\n",
              "\n",
              "    .dataframe thead th {\n",
              "        text-align: right;\n",
              "    }\n",
              "</style>\n",
              "<table border=\"1\" class=\"dataframe\">\n",
              "  <thead>\n",
              "    <tr style=\"text-align: right;\">\n",
              "      <th></th>\n",
              "      <th>a</th>\n",
              "      <th>b</th>\n",
              "      <th>c</th>\n",
              "      <th>d</th>\n",
              "      <th>e</th>\n",
              "      <th>f</th>\n",
              "      <th>g</th>\n",
              "    </tr>\n",
              "  </thead>\n",
              "  <tbody>\n",
              "    <tr>\n",
              "      <th>0</th>\n",
              "      <td>1.109774</td>\n",
              "      <td>1.494324</td>\n",
              "      <td>1.503866</td>\n",
              "      <td>1.943043</td>\n",
              "      <td>1.318035</td>\n",
              "      <td>7.369041</td>\n",
              "      <td>LT8</td>\n",
              "    </tr>\n",
              "    <tr>\n",
              "      <th>1</th>\n",
              "      <td>1.120241</td>\n",
              "      <td>1.657560</td>\n",
              "      <td>1.542489</td>\n",
              "      <td>1.692709</td>\n",
              "      <td>1.940307</td>\n",
              "      <td>7.953306</td>\n",
              "      <td>LT8</td>\n",
              "    </tr>\n",
              "    <tr>\n",
              "      <th>2</th>\n",
              "      <td>1.194811</td>\n",
              "      <td>1.918830</td>\n",
              "      <td>1.643698</td>\n",
              "      <td>1.351261</td>\n",
              "      <td>1.327388</td>\n",
              "      <td>7.435989</td>\n",
              "      <td>LT8</td>\n",
              "    </tr>\n",
              "    <tr>\n",
              "      <th>3</th>\n",
              "      <td>1.225264</td>\n",
              "      <td>1.874307</td>\n",
              "      <td>1.427723</td>\n",
              "      <td>1.107883</td>\n",
              "      <td>1.518869</td>\n",
              "      <td>7.154046</td>\n",
              "      <td>LT8</td>\n",
              "    </tr>\n",
              "    <tr>\n",
              "      <th>4</th>\n",
              "      <td>1.099047</td>\n",
              "      <td>1.474036</td>\n",
              "      <td>1.990554</td>\n",
              "      <td>1.501393</td>\n",
              "      <td>1.673252</td>\n",
              "      <td>7.738282</td>\n",
              "      <td>LT8</td>\n",
              "    </tr>\n",
              "    <tr>\n",
              "      <th>5</th>\n",
              "      <td>1.548385</td>\n",
              "      <td>1.866024</td>\n",
              "      <td>1.270475</td>\n",
              "      <td>1.553278</td>\n",
              "      <td>1.584164</td>\n",
              "      <td>7.822326</td>\n",
              "      <td>LT8</td>\n",
              "    </tr>\n",
              "    <tr>\n",
              "      <th>6</th>\n",
              "      <td>1.589544</td>\n",
              "      <td>1.646176</td>\n",
              "      <td>1.038217</td>\n",
              "      <td>1.982280</td>\n",
              "      <td>1.501515</td>\n",
              "      <td>7.757732</td>\n",
              "      <td>LT8</td>\n",
              "    </tr>\n",
              "    <tr>\n",
              "      <th>7</th>\n",
              "      <td>1.303179</td>\n",
              "      <td>1.036511</td>\n",
              "      <td>1.257605</td>\n",
              "      <td>1.084695</td>\n",
              "      <td>1.121133</td>\n",
              "      <td>5.803124</td>\n",
              "      <td>LT8</td>\n",
              "    </tr>\n",
              "    <tr>\n",
              "      <th>8</th>\n",
              "      <td>1.723845</td>\n",
              "      <td>1.542043</td>\n",
              "      <td>1.024207</td>\n",
              "      <td>1.661866</td>\n",
              "      <td>1.073479</td>\n",
              "      <td>7.025441</td>\n",
              "      <td>LT8</td>\n",
              "    </tr>\n",
              "    <tr>\n",
              "      <th>9</th>\n",
              "      <td>1.875897</td>\n",
              "      <td>1.524417</td>\n",
              "      <td>1.952131</td>\n",
              "      <td>1.280735</td>\n",
              "      <td>1.562069</td>\n",
              "      <td>8.195249</td>\n",
              "      <td>GT8</td>\n",
              "    </tr>\n",
              "    <tr>\n",
              "      <th>10</th>\n",
              "      <td>1.611549</td>\n",
              "      <td>1.523877</td>\n",
              "      <td>1.064435</td>\n",
              "      <td>1.536509</td>\n",
              "      <td>1.946145</td>\n",
              "      <td>7.682514</td>\n",
              "      <td>LT8</td>\n",
              "    </tr>\n",
              "    <tr>\n",
              "      <th>11</th>\n",
              "      <td>1.846398</td>\n",
              "      <td>1.034823</td>\n",
              "      <td>1.599608</td>\n",
              "      <td>1.083817</td>\n",
              "      <td>1.591639</td>\n",
              "      <td>7.156284</td>\n",
              "      <td>LT8</td>\n",
              "    </tr>\n",
              "    <tr>\n",
              "      <th>12</th>\n",
              "      <td>1.211466</td>\n",
              "      <td>1.512629</td>\n",
              "      <td>1.277598</td>\n",
              "      <td>1.207850</td>\n",
              "      <td>1.743260</td>\n",
              "      <td>6.952803</td>\n",
              "      <td>LT8</td>\n",
              "    </tr>\n",
              "    <tr>\n",
              "      <th>13</th>\n",
              "      <td>1.948304</td>\n",
              "      <td>1.303825</td>\n",
              "      <td>1.285131</td>\n",
              "      <td>1.475832</td>\n",
              "      <td>1.420162</td>\n",
              "      <td>7.433254</td>\n",
              "      <td>LT8</td>\n",
              "    </tr>\n",
              "    <tr>\n",
              "      <th>14</th>\n",
              "      <td>1.911370</td>\n",
              "      <td>1.309726</td>\n",
              "      <td>1.416171</td>\n",
              "      <td>1.225631</td>\n",
              "      <td>1.214191</td>\n",
              "      <td>7.077088</td>\n",
              "      <td>LT8</td>\n",
              "    </tr>\n",
              "    <tr>\n",
              "      <th>15</th>\n",
              "      <td>1.385926</td>\n",
              "      <td>1.299863</td>\n",
              "      <td>1.372532</td>\n",
              "      <td>1.253307</td>\n",
              "      <td>1.533826</td>\n",
              "      <td>6.845454</td>\n",
              "      <td>LT8</td>\n",
              "    </tr>\n",
              "    <tr>\n",
              "      <th>16</th>\n",
              "      <td>1.899941</td>\n",
              "      <td>1.904522</td>\n",
              "      <td>1.447678</td>\n",
              "      <td>1.578051</td>\n",
              "      <td>1.927776</td>\n",
              "      <td>8.757967</td>\n",
              "      <td>GT8</td>\n",
              "    </tr>\n",
              "    <tr>\n",
              "      <th>17</th>\n",
              "      <td>1.260194</td>\n",
              "      <td>1.045643</td>\n",
              "      <td>1.478850</td>\n",
              "      <td>1.015872</td>\n",
              "      <td>1.969122</td>\n",
              "      <td>6.769681</td>\n",
              "      <td>LT8</td>\n",
              "    </tr>\n",
              "    <tr>\n",
              "      <th>18</th>\n",
              "      <td>1.173872</td>\n",
              "      <td>1.317004</td>\n",
              "      <td>1.764187</td>\n",
              "      <td>1.957732</td>\n",
              "      <td>1.058448</td>\n",
              "      <td>7.271243</td>\n",
              "      <td>LT8</td>\n",
              "    </tr>\n",
              "    <tr>\n",
              "      <th>19</th>\n",
              "      <td>1.084786</td>\n",
              "      <td>1.551630</td>\n",
              "      <td>1.260368</td>\n",
              "      <td>1.565574</td>\n",
              "      <td>1.183973</td>\n",
              "      <td>6.646330</td>\n",
              "      <td>LT8</td>\n",
              "    </tr>\n",
              "  </tbody>\n",
              "</table>\n",
              "</div>\n",
              "    <div class=\"colab-df-buttons\">\n",
              "\n",
              "  <div class=\"colab-df-container\">\n",
              "    <button class=\"colab-df-convert\" onclick=\"convertToInteractive('df-aeb635dd-fe28-4817-92a7-3a64ac3ac298')\"\n",
              "            title=\"Convert this dataframe to an interactive table.\"\n",
              "            style=\"display:none;\">\n",
              "\n",
              "  <svg xmlns=\"http://www.w3.org/2000/svg\" height=\"24px\" viewBox=\"0 -960 960 960\">\n",
              "    <path d=\"M120-120v-720h720v720H120Zm60-500h600v-160H180v160Zm220 220h160v-160H400v160Zm0 220h160v-160H400v160ZM180-400h160v-160H180v160Zm440 0h160v-160H620v160ZM180-180h160v-160H180v160Zm440 0h160v-160H620v160Z\"/>\n",
              "  </svg>\n",
              "    </button>\n",
              "\n",
              "  <style>\n",
              "    .colab-df-container {\n",
              "      display:flex;\n",
              "      gap: 12px;\n",
              "    }\n",
              "\n",
              "    .colab-df-convert {\n",
              "      background-color: #E8F0FE;\n",
              "      border: none;\n",
              "      border-radius: 50%;\n",
              "      cursor: pointer;\n",
              "      display: none;\n",
              "      fill: #1967D2;\n",
              "      height: 32px;\n",
              "      padding: 0 0 0 0;\n",
              "      width: 32px;\n",
              "    }\n",
              "\n",
              "    .colab-df-convert:hover {\n",
              "      background-color: #E2EBFA;\n",
              "      box-shadow: 0px 1px 2px rgba(60, 64, 67, 0.3), 0px 1px 3px 1px rgba(60, 64, 67, 0.15);\n",
              "      fill: #174EA6;\n",
              "    }\n",
              "\n",
              "    .colab-df-buttons div {\n",
              "      margin-bottom: 4px;\n",
              "    }\n",
              "\n",
              "    [theme=dark] .colab-df-convert {\n",
              "      background-color: #3B4455;\n",
              "      fill: #D2E3FC;\n",
              "    }\n",
              "\n",
              "    [theme=dark] .colab-df-convert:hover {\n",
              "      background-color: #434B5C;\n",
              "      box-shadow: 0px 1px 3px 1px rgba(0, 0, 0, 0.15);\n",
              "      filter: drop-shadow(0px 1px 2px rgba(0, 0, 0, 0.3));\n",
              "      fill: #FFFFFF;\n",
              "    }\n",
              "  </style>\n",
              "\n",
              "    <script>\n",
              "      const buttonEl =\n",
              "        document.querySelector('#df-aeb635dd-fe28-4817-92a7-3a64ac3ac298 button.colab-df-convert');\n",
              "      buttonEl.style.display =\n",
              "        google.colab.kernel.accessAllowed ? 'block' : 'none';\n",
              "\n",
              "      async function convertToInteractive(key) {\n",
              "        const element = document.querySelector('#df-aeb635dd-fe28-4817-92a7-3a64ac3ac298');\n",
              "        const dataTable =\n",
              "          await google.colab.kernel.invokeFunction('convertToInteractive',\n",
              "                                                    [key], {});\n",
              "        if (!dataTable) return;\n",
              "\n",
              "        const docLinkHtml = 'Like what you see? Visit the ' +\n",
              "          '<a target=\"_blank\" href=https://colab.research.google.com/notebooks/data_table.ipynb>data table notebook</a>'\n",
              "          + ' to learn more about interactive tables.';\n",
              "        element.innerHTML = '';\n",
              "        dataTable['output_type'] = 'display_data';\n",
              "        await google.colab.output.renderOutput(dataTable, element);\n",
              "        const docLink = document.createElement('div');\n",
              "        docLink.innerHTML = docLinkHtml;\n",
              "        element.appendChild(docLink);\n",
              "      }\n",
              "    </script>\n",
              "  </div>\n",
              "\n",
              "\n",
              "<div id=\"df-0257c0ac-8e6a-4336-b052-119afd5666bf\">\n",
              "  <button class=\"colab-df-quickchart\" onclick=\"quickchart('df-0257c0ac-8e6a-4336-b052-119afd5666bf')\"\n",
              "            title=\"Suggest charts\"\n",
              "            style=\"display:none;\">\n",
              "\n",
              "<svg xmlns=\"http://www.w3.org/2000/svg\" height=\"24px\"viewBox=\"0 0 24 24\"\n",
              "     width=\"24px\">\n",
              "    <g>\n",
              "        <path d=\"M19 3H5c-1.1 0-2 .9-2 2v14c0 1.1.9 2 2 2h14c1.1 0 2-.9 2-2V5c0-1.1-.9-2-2-2zM9 17H7v-7h2v7zm4 0h-2V7h2v10zm4 0h-2v-4h2v4z\"/>\n",
              "    </g>\n",
              "</svg>\n",
              "  </button>\n",
              "\n",
              "<style>\n",
              "  .colab-df-quickchart {\n",
              "      --bg-color: #E8F0FE;\n",
              "      --fill-color: #1967D2;\n",
              "      --hover-bg-color: #E2EBFA;\n",
              "      --hover-fill-color: #174EA6;\n",
              "      --disabled-fill-color: #AAA;\n",
              "      --disabled-bg-color: #DDD;\n",
              "  }\n",
              "\n",
              "  [theme=dark] .colab-df-quickchart {\n",
              "      --bg-color: #3B4455;\n",
              "      --fill-color: #D2E3FC;\n",
              "      --hover-bg-color: #434B5C;\n",
              "      --hover-fill-color: #FFFFFF;\n",
              "      --disabled-bg-color: #3B4455;\n",
              "      --disabled-fill-color: #666;\n",
              "  }\n",
              "\n",
              "  .colab-df-quickchart {\n",
              "    background-color: var(--bg-color);\n",
              "    border: none;\n",
              "    border-radius: 50%;\n",
              "    cursor: pointer;\n",
              "    display: none;\n",
              "    fill: var(--fill-color);\n",
              "    height: 32px;\n",
              "    padding: 0;\n",
              "    width: 32px;\n",
              "  }\n",
              "\n",
              "  .colab-df-quickchart:hover {\n",
              "    background-color: var(--hover-bg-color);\n",
              "    box-shadow: 0 1px 2px rgba(60, 64, 67, 0.3), 0 1px 3px 1px rgba(60, 64, 67, 0.15);\n",
              "    fill: var(--button-hover-fill-color);\n",
              "  }\n",
              "\n",
              "  .colab-df-quickchart-complete:disabled,\n",
              "  .colab-df-quickchart-complete:disabled:hover {\n",
              "    background-color: var(--disabled-bg-color);\n",
              "    fill: var(--disabled-fill-color);\n",
              "    box-shadow: none;\n",
              "  }\n",
              "\n",
              "  .colab-df-spinner {\n",
              "    border: 2px solid var(--fill-color);\n",
              "    border-color: transparent;\n",
              "    border-bottom-color: var(--fill-color);\n",
              "    animation:\n",
              "      spin 1s steps(1) infinite;\n",
              "  }\n",
              "\n",
              "  @keyframes spin {\n",
              "    0% {\n",
              "      border-color: transparent;\n",
              "      border-bottom-color: var(--fill-color);\n",
              "      border-left-color: var(--fill-color);\n",
              "    }\n",
              "    20% {\n",
              "      border-color: transparent;\n",
              "      border-left-color: var(--fill-color);\n",
              "      border-top-color: var(--fill-color);\n",
              "    }\n",
              "    30% {\n",
              "      border-color: transparent;\n",
              "      border-left-color: var(--fill-color);\n",
              "      border-top-color: var(--fill-color);\n",
              "      border-right-color: var(--fill-color);\n",
              "    }\n",
              "    40% {\n",
              "      border-color: transparent;\n",
              "      border-right-color: var(--fill-color);\n",
              "      border-top-color: var(--fill-color);\n",
              "    }\n",
              "    60% {\n",
              "      border-color: transparent;\n",
              "      border-right-color: var(--fill-color);\n",
              "    }\n",
              "    80% {\n",
              "      border-color: transparent;\n",
              "      border-right-color: var(--fill-color);\n",
              "      border-bottom-color: var(--fill-color);\n",
              "    }\n",
              "    90% {\n",
              "      border-color: transparent;\n",
              "      border-bottom-color: var(--fill-color);\n",
              "    }\n",
              "  }\n",
              "</style>\n",
              "\n",
              "  <script>\n",
              "    async function quickchart(key) {\n",
              "      const quickchartButtonEl =\n",
              "        document.querySelector('#' + key + ' button');\n",
              "      quickchartButtonEl.disabled = true;  // To prevent multiple clicks.\n",
              "      quickchartButtonEl.classList.add('colab-df-spinner');\n",
              "      try {\n",
              "        const charts = await google.colab.kernel.invokeFunction(\n",
              "            'suggestCharts', [key], {});\n",
              "      } catch (error) {\n",
              "        console.error('Error during call to suggestCharts:', error);\n",
              "      }\n",
              "      quickchartButtonEl.classList.remove('colab-df-spinner');\n",
              "      quickchartButtonEl.classList.add('colab-df-quickchart-complete');\n",
              "    }\n",
              "    (() => {\n",
              "      let quickchartButtonEl =\n",
              "        document.querySelector('#df-0257c0ac-8e6a-4336-b052-119afd5666bf button');\n",
              "      quickchartButtonEl.style.display =\n",
              "        google.colab.kernel.accessAllowed ? 'block' : 'none';\n",
              "    })();\n",
              "  </script>\n",
              "</div>\n",
              "\n",
              "  <div id=\"id_9b036efe-d064-4927-b208-2bcbb5ead4a6\">\n",
              "    <style>\n",
              "      .colab-df-generate {\n",
              "        background-color: #E8F0FE;\n",
              "        border: none;\n",
              "        border-radius: 50%;\n",
              "        cursor: pointer;\n",
              "        display: none;\n",
              "        fill: #1967D2;\n",
              "        height: 32px;\n",
              "        padding: 0 0 0 0;\n",
              "        width: 32px;\n",
              "      }\n",
              "\n",
              "      .colab-df-generate:hover {\n",
              "        background-color: #E2EBFA;\n",
              "        box-shadow: 0px 1px 2px rgba(60, 64, 67, 0.3), 0px 1px 3px 1px rgba(60, 64, 67, 0.15);\n",
              "        fill: #174EA6;\n",
              "      }\n",
              "\n",
              "      [theme=dark] .colab-df-generate {\n",
              "        background-color: #3B4455;\n",
              "        fill: #D2E3FC;\n",
              "      }\n",
              "\n",
              "      [theme=dark] .colab-df-generate:hover {\n",
              "        background-color: #434B5C;\n",
              "        box-shadow: 0px 1px 3px 1px rgba(0, 0, 0, 0.15);\n",
              "        filter: drop-shadow(0px 1px 2px rgba(0, 0, 0, 0.3));\n",
              "        fill: #FFFFFF;\n",
              "      }\n",
              "    </style>\n",
              "    <button class=\"colab-df-generate\" onclick=\"generateWithVariable('df')\"\n",
              "            title=\"Generate code using this dataframe.\"\n",
              "            style=\"display:none;\">\n",
              "\n",
              "  <svg xmlns=\"http://www.w3.org/2000/svg\" height=\"24px\"viewBox=\"0 0 24 24\"\n",
              "       width=\"24px\">\n",
              "    <path d=\"M7,19H8.4L18.45,9,17,7.55,7,17.6ZM5,21V16.75L18.45,3.32a2,2,0,0,1,2.83,0l1.4,1.43a1.91,1.91,0,0,1,.58,1.4,1.91,1.91,0,0,1-.58,1.4L9.25,21ZM18.45,9,17,7.55Zm-12,3A5.31,5.31,0,0,0,4.9,8.1,5.31,5.31,0,0,0,1,6.5,5.31,5.31,0,0,0,4.9,4.9,5.31,5.31,0,0,0,6.5,1,5.31,5.31,0,0,0,8.1,4.9,5.31,5.31,0,0,0,12,6.5,5.46,5.46,0,0,0,6.5,12Z\"/>\n",
              "  </svg>\n",
              "    </button>\n",
              "    <script>\n",
              "      (() => {\n",
              "      const buttonEl =\n",
              "        document.querySelector('#id_9b036efe-d064-4927-b208-2bcbb5ead4a6 button.colab-df-generate');\n",
              "      buttonEl.style.display =\n",
              "        google.colab.kernel.accessAllowed ? 'block' : 'none';\n",
              "\n",
              "      buttonEl.onclick = () => {\n",
              "        google.colab.notebook.generateWithVariable('df');\n",
              "      }\n",
              "      })();\n",
              "    </script>\n",
              "  </div>\n",
              "\n",
              "    </div>\n",
              "  </div>\n"
            ],
            "application/vnd.google.colaboratory.intrinsic+json": {
              "type": "dataframe",
              "variable_name": "df",
              "summary": "{\n  \"name\": \"df\",\n  \"rows\": 20,\n  \"fields\": [\n    {\n      \"column\": \"a\",\n      \"properties\": {\n        \"dtype\": \"number\",\n        \"std\": 0.3181455147824688,\n        \"min\": 1.08478607162899,\n        \"max\": 1.9483039454741677,\n        \"num_unique_values\": 20,\n        \"samples\": [\n          1.1097738222006233,\n          1.260193655719981,\n          1.3859256258860402\n        ],\n        \"semantic_type\": \"\",\n        \"description\": \"\"\n      }\n    },\n    {\n      \"column\": \"b\",\n      \"properties\": {\n        \"dtype\": \"number\",\n        \"std\": 0.276287630999597,\n        \"min\": 1.0348227693129963,\n        \"max\": 1.9188304518319208,\n        \"num_unique_values\": 20,\n        \"samples\": [\n          1.4943241077120617,\n          1.0456426698813304,\n          1.299863021304549\n        ],\n        \"semantic_type\": \"\",\n        \"description\": \"\"\n      }\n    },\n    {\n      \"column\": \"c\",\n      \"properties\": {\n        \"dtype\": \"number\",\n        \"std\": 0.26922944884238315,\n        \"min\": 1.0242068707992276,\n        \"max\": 1.9905541043998451,\n        \"num_unique_values\": 20,\n        \"samples\": [\n          1.50386600250135,\n          1.478850251842636,\n          1.3725322865721443\n        ],\n        \"semantic_type\": \"\",\n        \"description\": \"\"\n      }\n    },\n    {\n      \"column\": \"d\",\n      \"properties\": {\n        \"dtype\": \"number\",\n        \"std\": 0.29895886404119904,\n        \"min\": 1.0158724353167128,\n        \"max\": 1.9822800535013139,\n        \"num_unique_values\": 20,\n        \"samples\": [\n          1.9430427090494904,\n          1.0158724353167128,\n          1.2533065095759177\n        ],\n        \"semantic_type\": \"\",\n        \"description\": \"\"\n      }\n    },\n    {\n      \"column\": \"e\",\n      \"properties\": {\n        \"dtype\": \"number\",\n        \"std\": 0.296922809576273,\n        \"min\": 1.0584484958216178,\n        \"max\": 1.9691223627205368,\n        \"num_unique_values\": 20,\n        \"samples\": [\n          1.3180347686357334,\n          1.9691223627205368,\n          1.5338263101246765\n        ],\n        \"semantic_type\": \"\",\n        \"description\": \"\"\n      }\n    },\n    {\n      \"column\": \"f\",\n      \"properties\": {\n        \"dtype\": \"number\",\n        \"std\": 0.6334536292209566,\n        \"min\": 5.80312359510386,\n        \"max\": 8.757967056968976,\n        \"num_unique_values\": 20,\n        \"samples\": [\n          7.369041410099259,\n          6.769681375481197,\n          6.845453753463327\n        ],\n        \"semantic_type\": \"\",\n        \"description\": \"\"\n      }\n    },\n    {\n      \"column\": \"g\",\n      \"properties\": {\n        \"dtype\": \"category\",\n        \"num_unique_values\": 2,\n        \"samples\": [\n          \"GT8\",\n          \"LT8\"\n        ],\n        \"semantic_type\": \"\",\n        \"description\": \"\"\n      }\n    }\n  ]\n}"
            }
          },
          "metadata": {},
          "execution_count": 8
        }
      ]
    },
    {
      "cell_type": "markdown",
      "source": [
        "### **Q12**\n",
        "\n",
        "Broadcasting in Numpy allows matrix operations to be performed on arrays of different shapes ans sizes by changing the size of the smaller array such that it is compatible with the other.\n",
        "\n",
        "The following is an example of numpy broadcasting:\n",
        "\n",
        "(In this example the smaller 1x3 array is changed to a 3x3 array)"
      ],
      "metadata": {
        "id": "z5eV_qT19CgD"
      }
    },
    {
      "cell_type": "code",
      "source": [
        "import numpy as np\n",
        "a1=np.array([[1, 2, 3],\n",
        "             [4, 5, 6],\n",
        "             [7, 8, 9]])\n",
        "a2=np.array([10, 20, 30])\n",
        "broadres=a1+a2\n",
        "\n",
        "print(\"Original Arrays:\")\n",
        "print(a1)\n",
        "print(a2)\n",
        "print(\"Result of Broadcasting:\")\n",
        "print(broadres)"
      ],
      "metadata": {
        "colab": {
          "base_uri": "https://localhost:8080/"
        },
        "id": "B7vo9KDu84sN",
        "outputId": "6b41c486-867a-46da-b53a-557e03417a3d"
      },
      "execution_count": null,
      "outputs": [
        {
          "output_type": "stream",
          "name": "stdout",
          "text": [
            "Original Arrays:\n",
            "[[1 2 3]\n",
            " [4 5 6]\n",
            " [7 8 9]]\n",
            "[10 20 30]\n",
            "Result of Broadcasting:\n",
            "[[11 22 33]\n",
            " [14 25 36]\n",
            " [17 28 39]]\n"
          ]
        }
      ]
    },
    {
      "cell_type": "markdown",
      "source": [
        "### **Q13**"
      ],
      "metadata": {
        "id": "YrftplH2P0xh"
      }
    },
    {
      "cell_type": "code",
      "source": [
        "#Q13\n",
        "import numpy as np\n",
        "\n",
        "arr=np.random.randint(10, 20, size=10)\n",
        "print(arr)\n",
        "def argmin(arr):\n",
        "    m=min(arr)\n",
        "    for i in range(len(arr)):\n",
        "        if arr[i]==m:\n",
        "            print(\"Index of minimum element:\",i)\n",
        "            break\n",
        "argmin(arr)\n",
        "print(\"Using np.argmin:\",np.argmin(arr))"
      ],
      "metadata": {
        "colab": {
          "base_uri": "https://localhost:8080/"
        },
        "id": "kaBIbg8m89Bb",
        "outputId": "41bda8ae-7a5a-4458-83f6-41d7b70c54cc"
      },
      "execution_count": null,
      "outputs": [
        {
          "output_type": "stream",
          "name": "stdout",
          "text": [
            "[14 15 18 17 10 19 17 11 11 13]\n",
            "Index of minimum element: 4\n",
            "Using np.argmin: 4\n"
          ]
        }
      ]
    }
  ]
}